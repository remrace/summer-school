{
 "cells": [
  {
   "cell_type": "code",
   "execution_count": 1,
   "metadata": {},
   "outputs": [],
   "source": [
    "#import necessary libraries\n",
    "import networkx as nx\n",
    "import matplotlib.pyplot as plt\n",
    "import numpy as np\n",
    "from datetime import datetime\n",
    "import itertools\n",
    "import time"
   ]
  },
  {
   "cell_type": "code",
   "execution_count": 2,
   "metadata": {},
   "outputs": [],
   "source": [
    "#some function definitions\n",
    "def drawing(G):\n",
    "    #pos specifies the location of each vertex to be drawn\n",
    "    pos = {x: x for x in list(G)}\n",
    "    #this is to make the drawing region bigger\n",
    "    plt.figure(figsize=(4,4)) \n",
    "    #drawing nodes\n",
    "    colordict = {node:color for color,comp in enumerate(nx.connected_components(G)) for node in comp}\n",
    "    nodecolor = [colordict[key] for key in sorted(colordict.keys())]\n",
    "    nx.draw_networkx_nodes(G, pos, node_size=700, node_color = nodecolor, cmap = plt.cm.tab20c)\n",
    "    #drawing labels (locations) of the nodes\n",
    "    nx.draw_networkx_labels(G, pos, nx.get_node_attributes(G,'intensity'))\n",
    "    #drawing edges and theirs labels ('weight')\n",
    "    nx.draw_networkx_edges(G, pos)\n",
    "    labels = nx.get_edge_attributes(G, 'weight')\n",
    "    nx.draw_networkx_edge_labels(G, pos, labels)\n",
    "    #show the drawing\n",
    "    plt.axis('off')\n",
    "    plt.show()\n",
    "    \n",
    "    \n",
    "def minimum_edges(G):\n",
    "    #this function returns all minimum edges of a graph\n",
    "    min_edge = min(list(G.edges.data('weight')), key = lambda x : x[2])\n",
    "    min_edges = [i for i in list(G.edges.data('weight')) if i[2] == min_edge[2]]\n",
    "    return min_edges\n",
    "\n",
    "def adjacency_edges_of_subgraph(S,G):\n",
    "    #this function returns all adjacency edges of a subgragh S of G\n",
    "    lst = []\n",
    "    for (u,v,w) in G.edges.data('weight'):\n",
    "        if S.has_node(u) ^ S.has_node(v):\n",
    "            lst.append((u,v,w))\n",
    "    return lst\n",
    "\n",
    "def average_weight(G):\n",
    "    #this returns the avarage 'weight' of a graph G\n",
    "    return np.mean([w for (u,v,w) in G.edges.data('weight')])\n",
    "\n",
    "from itertools import islice\n",
    "def k_shortest_paths(G, source, target, k, weight=None):\n",
    "    return list(islice(nx.shortest_simple_paths(G, source, target, weight), k))\n",
    "\n",
    "from itertools import tee\n",
    "def pairwise(iterable):\n",
    "    \"s -> (s0,s1), (s1,s2), (s2, s3), ...\"\n",
    "    a, b = tee(iterable)\n",
    "    next(b, None)\n",
    "    return zip(a, b)\n",
    "\n",
    "def maximin(G):\n",
    "    #this function returns the graph G with new maximin weights of each adjacent pair\n",
    "    min_edges = []\n",
    "    for u, v, d in G.edges(data = True):\n",
    "        min_edges.clear()\n",
    "        for path in k_shortest_paths(G,u,v,20):\n",
    "            min_edges.append(min([G.get_edge_data(*edge)['weight'] for edge in pairwise(path)]))\n",
    "        d['weight'] = max(min_edges)\n",
    "    return G\n",
    "\n",
    "def minmax(G):\n",
    "    #this function returns the graph G with new weights of min(max(neighbors))\n",
    "    for (u,v,d) in G.edges(data = True):\n",
    "        maxu = max(G[u].values())\n",
    "        maxv = max(G[v].values())\n",
    "        d['weight'] = min(maxu,maxv)\n",
    "    return G\n",
    "\n",
    "def threshold(G,theta=0):\n",
    "    #this function return a graph that is thresholded by theta,\n",
    "    #deleting all edges that is below the threshold\n",
    "    G.remove_edges_from([(u,v) for (u,v,d) in  G.edges(data=True) if d['weight']<=theta])\n",
    "    return G\n",
    "\n",
    "def segmentation_out(G,theta=0):\n",
    "    nx.set_node_attributes(G, 0, 'intensity')\n",
    "    components = nx.connected_components(G,theta)\n",
    "    color_scale = len(list(components))\n",
    "    attrs = {node: {'intensity' : index*255/color_scale} for index, comp in enumerate(components) for node in comp}\n",
    "    print(attrs)\n",
    "    nx.set_node_attributes(G, attrs)\n",
    "    return G\n",
    "\n",
    "\n",
    "def powerset(iterable):\n",
    "    \"powerset([1,2,3]) --> () (1,) (2,) (3,) (1,2) (1,3) (2,3) (1,2,3)\"\n",
    "    s = list(iterable)\n",
    "    return itertools.chain.from_iterable(itertools.combinations(s, r) for r in range(len(s)+1))\n",
    "\n",
    "\n",
    "def minimum_energy(G,print_all_graphs = False):\n",
    "    min_energy = 0\n",
    "    M = G.copy()\n",
    "    for cut_edges in powerset(G.edges):\n",
    "        H = G.copy()\n",
    "        H.remove_edges_from(cut_edges)\n",
    "        components = [[x for x in comp] for comp in nx.connected_components(H)]\n",
    "        #components = nx.connected_components(H)\n",
    "        energy = 0\n",
    "        for edge in cut_edges:\n",
    "            if not any(edge[0] in comp and edge[1] in comp for comp in list(components)):\n",
    "                energy+=G.edges[edge]['weight']\n",
    "        \n",
    "        if print_all_graphs:\n",
    "            drawing(H)\n",
    "            print('energy:', energy)\n",
    "            \n",
    "        if energy < min_energy:\n",
    "            min_energy = energy\n",
    "            M = H.copy()\n",
    "    print('min energy: ', min_energy)\n",
    "    drawing(M)\n",
    "\n",
    "def minimum_energy_t(G,print_all_graphs = False):\n",
    "    min_energy = 0\n",
    "    M = G.copy()\n",
    "    seen = set()\n",
    "    for nodes in powerset(G.edges):\n",
    "        H = G.copy()\n",
    "        H.remove_edges_from(cut_edges)\n",
    "        components = nx.connected_components(H)\n",
    "        if components not in seen:\n",
    "            seen.add(components)\n",
    "            energy = 0\n",
    "            C = [[x for x in c] for c in components]\n",
    "            for edge in cut_edges:\n",
    "                if not any(edge[0] in comp and edge[1] in comp for comp in C):\n",
    "                    energy+=G.edges[edge]['weight']\n",
    "            if print_all_graphs:\n",
    "                drawing(H)\n",
    "                print('energy:', energy)\n",
    "\n",
    "            if energy < min_energy:\n",
    "                min_energy = energy\n",
    "                M = H.copy()\n",
    "    print('min energy: ', min_energy)\n",
    "    drawing(M)\n",
    "\n",
    "def partition(collection):\n",
    "    if len(collection) == 1:\n",
    "        yield [collection]\n",
    "        return\n",
    "\n",
    "    first = collection[0]\n",
    "    for smaller in partition(collection[1:]):\n",
    "        # insert `first` in each of the subpartition's subsets\n",
    "        for n, subset in enumerate(smaller):\n",
    "            yield smaller[:n] + [[ first ] + subset]  + smaller[n+1:]\n",
    "        # put `first` in its own subset \n",
    "        yield [[ first ]] + smaller\n",
    "\n",
    "def is_linked(G, nodes):\n",
    "    seen = set()\n",
    "    n = set(nodes)\n",
    "    while n:\n",
    "        left = n.difference(seen)\n",
    "        x = left.pop()\n",
    "        if set(G[x]).isdisjoint(seen.union(left)):\n",
    "            return False\n",
    "        else:\n",
    "            seen.update([x]+[ad for ad in G[x] if ad in left])\n",
    "            n.remove(x)\n",
    "            n -= set(G[x])\n",
    "    return True\n",
    "\n",
    "#----------------------------------\n",
    "\n",
    "def image_to_graph(img):\n",
    "    G = nx.grid_2d_graph(img.shape[0], img.shape[1])\n",
    "    G.graph['X'] = img.shape[0]\n",
    "    G.graph['Y'] = img.shape[1]\n",
    "    nx.set_node_attributes(G,{u:{'intensity':v} for u,v in np.ndenumerate(img)})\n",
    "    for u, v, d in G.edges(data = True):\n",
    "        d['weight'] =  10 - abs(np.subtract(img[u], img[v]))\n",
    "    return G\n",
    "\n",
    "def graph_to_image(G):\n",
    "    intensity = nx.get_node_attributes(G,'intensity')\n",
    "    I = np.zeros((G.graph['X'], G.graph['Y']), dtype=np.int8)\n",
    "    for node,value in intensity.items():\n",
    "        I[node[0]][node[1]] = value\n",
    "    return Image.fromarray(I,mode='L')"
   ]
  },
  {
   "cell_type": "code",
   "execution_count": 3,
   "metadata": {},
   "outputs": [],
   "source": [
    "I = np.ones((7,7))*20\n",
    "I[0,0:4] = 16\n",
    "I[0:3,4:7] = 10\n",
    "I[1,0:2] = 16\n",
    "I[1,2:4] = 5\n",
    "I[2,0:5:3] = 10\n",
    "I[2,1:3] = 5\n",
    "I[3,1:5] = 10\n",
    "I[4,2] = 10\n",
    "I[5,4:6] = 25\n",
    "I = np.flipud(I)"
   ]
  },
  {
   "cell_type": "code",
   "execution_count": 4,
   "metadata": {},
   "outputs": [
    {
     "data": {
      "text/plain": [
       "array([[20., 20., 20., 20., 20., 20., 20.],\n",
       "       [20., 20., 20., 20., 25., 25., 20.],\n",
       "       [20., 20., 10., 20., 20., 20., 20.],\n",
       "       [20., 10., 10., 10., 10., 20., 20.],\n",
       "       [10.,  5.,  5., 10., 10., 10., 10.],\n",
       "       [16., 16.,  5.,  5., 10., 10., 10.],\n",
       "       [16., 16., 16., 16., 10., 10., 10.]])"
      ]
     },
     "execution_count": 4,
     "metadata": {},
     "output_type": "execute_result"
    }
   ],
   "source": [
    "I"
   ]
  },
  {
   "cell_type": "code",
   "execution_count": 5,
   "metadata": {},
   "outputs": [],
   "source": [
    "L=image_to_graph(np.fliplr(np.transpose(I)))"
   ]
  },
  {
   "cell_type": "code",
   "execution_count": 16,
   "metadata": {},
   "outputs": [
    {
     "data": {
      "image/png": "[encoded data removed]",
      "text/plain": [
       "<matplotlib.figure.Figure at 0x7f4ca2ff5358>"
      ]
     },
     "metadata": {},
     "output_type": "display_data"
    }
   ],
   "source": [
    "#define a NetworkX 4-adj connected graph\n",
    "#define 'weight' of each edge to be randome integer between 1-9\n",
    "G = nx.grid_2d_graph(range(3), range(4))\n",
    "for u, v, d in G.edges(data = True):\n",
    "    d['weight'] = np.random.randint(-10, 10)\n",
    "\n",
    "drawing(G)"
   ]
  },
  {
   "cell_type": "code",
   "execution_count": 17,
   "metadata": {},
   "outputs": [
    {
     "name": "stdout",
     "output_type": "stream",
     "text": [
      "4213597 3904\n",
      "19.00990104675293\n"
     ]
    }
   ],
   "source": [
    "import time\n",
    "start = time.time()\n",
    "i1, i2 = 0,0\n",
    "for p in partition(list(G.nodes)):\n",
    "    i1+=1\n",
    "    if all(is_linked(G,part) for part in p):\n",
    "        i2+=1\n",
    "print(i1,i2)\n",
    "end = time.time()\n",
    "print (end-start)"
   ]
  },
  {
   "cell_type": "code",
   "execution_count": 20,
   "metadata": {},
   "outputs": [
    {
     "name": "stdout",
     "output_type": "stream",
     "text": [
      "min energy:  -71\n"
     ]
    },
    {
     "data": {
      "image/png": "[encoded data removed]",
      "text/plain": [
       "<matplotlib.figure.Figure at 0x7f4ca309c7f0>"
      ]
     },
     "metadata": {},
     "output_type": "display_data"
    },
    {
     "name": "stdout",
     "output_type": "stream",
     "text": [
      "131072\n",
      "14.41976022720337\n"
     ]
    }
   ],
   "source": [
    "import time\n",
    "start = time.time()\n",
    "minimum_energy(G)\n",
    "print (t)\n",
    "end = time.time()\n",
    "print (end-start)"
   ]
  },
  {
   "cell_type": "code",
   "execution_count": null,
   "metadata": {},
   "outputs": [],
   "source": []
  }
 ],
 "metadata": {
  "kernelspec": {
   "display_name": "Python 3",
   "language": "python",
   "name": "python3"
  },
  "language_info": {
   "codemirror_mode": {
    "name": "ipython",
    "version": 3
   },
   "file_extension": ".py",
   "mimetype": "text/x-python",
   "name": "python",
   "nbconvert_exporter": "python",
   "pygments_lexer": "ipython3",
   "version": "3.6.4"
  }
 },
 "nbformat": 4,
 "nbformat_minor": 2
}
