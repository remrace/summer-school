{
 "cells": [
  {
   "cell_type": "code",
   "execution_count": 57,
   "metadata": {},
   "outputs": [],
   "source": [
    "import random\n",
    "def strgenerator(guess,answer):\n",
    "    alphabet = \"abcdefghijklmnopqrstuvwxyz \"\n",
    "    res = \"\"\n",
    "    for c in range(len(guess)):\n",
    "        if guess[c] != answer[c]:\n",
    "            res = res + alphabet[random.randrange(27)]\n",
    "        else:\n",
    "            res = res + guess[c]\n",
    "    return res\n",
    "\n",
    "def scoring(str1,answer):\n",
    "    correct = 0\n",
    "    for c, letter in enumerate(answer):\n",
    "        if letter == str1[c]:\n",
    "            correct+=1\n",
    "    return (correct/len(answer)*100)\n",
    "\n",
    "def runner():\n",
    "    answer = \"methinks it is like a weasel\"\n",
    "    guess=\"\"\n",
    "    for i in range(28):\n",
    "        guess = guess + \"abcdefghijklmnopqrstuvwxyz \"[random.randrange(27)]\n",
    "    score = scoring(guess, answer)\n",
    "    best = (guess, score)\n",
    "    counter = 1\n",
    "    while score < 100:\n",
    "        counter+=1\n",
    "        guess = strgenerator(guess,answer)\n",
    "        score = scoring(guess, answer)\n",
    "        if score > best[1]:\n",
    "            best = (guess, score)\n",
    "        if counter%100 == 0:\n",
    "            print(best,counter)"
   ]
  },
  {
   "cell_type": "code",
   "execution_count": 58,
   "metadata": {},
   "outputs": [
    {
     "data": {
      "text/plain": [
       "28"
      ]
     },
     "execution_count": 58,
     "metadata": {},
     "output_type": "execute_result"
    }
   ],
   "source": [
    "len(\"methinks it is like a weasel\")\n"
   ]
  },
  {
   "cell_type": "code",
   "execution_count": 59,
   "metadata": {},
   "outputs": [
    {
     "data": {
      "text/plain": [
       "27"
      ]
     },
     "execution_count": 59,
     "metadata": {},
     "output_type": "execute_result"
    }
   ],
   "source": [
    "len(\"abcdefghijklmnopqrstuvwxyz \")\n"
   ]
  },
  {
   "cell_type": "code",
   "execution_count": 62,
   "metadata": {},
   "outputs": [
    {
     "name": "stdout",
     "output_type": "stream",
     "text": [
      "xvfwmseqcvlthanvauikcogydwjx\n"
     ]
    }
   ],
   "source": []
  },
  {
   "cell_type": "code",
   "execution_count": 63,
   "metadata": {},
   "outputs": [
    {
     "data": {
      "text/plain": [
       "28"
      ]
     },
     "execution_count": 63,
     "metadata": {},
     "output_type": "execute_result"
    }
   ],
   "source": []
  },
  {
   "cell_type": "code",
   "execution_count": null,
   "metadata": {},
   "outputs": [],
   "source": []
  }
 ],
 "metadata": {
  "kernelspec": {
   "display_name": "Python 3",
   "language": "python",
   "name": "python3"
  },
  "language_info": {
   "codemirror_mode": {
    "name": "ipython",
    "version": 3
   },
   "file_extension": ".py",
   "mimetype": "text/x-python",
   "name": "python",
   "nbconvert_exporter": "python",
   "pygments_lexer": "ipython3",
   "version": "3.6.5"
  }
 },
 "nbformat": 4,
 "nbformat_minor": 2
}
