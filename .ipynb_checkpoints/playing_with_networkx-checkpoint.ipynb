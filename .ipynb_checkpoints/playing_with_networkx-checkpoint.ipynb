{
 "cells": [
  {
   "cell_type": "code",
   "execution_count": 2,
   "metadata": {},
   "outputs": [],
   "source": [
    "import networkx as nx\n",
    "import matplotlib.pyplot as plt\n",
    "import numpy as np"
   ]
  },
  {
   "cell_type": "code",
   "execution_count": 3,
   "metadata": {},
   "outputs": [],
   "source": [
    "SIZE_X = 4\n",
    "SIZE_Y = 4"
   ]
  },
  {
   "cell_type": "code",
   "execution_count": 4,
   "metadata": {},
   "outputs": [],
   "source": [
    "G = nx.grid_2d_graph(range(SIZE_X), range(SIZE_Y))\n",
    "for u, v, d in G.edges(data = True):\n",
    "    d['weight'] = np.random.randint(1, 10)"
   ]
  },
  {
   "cell_type": "code",
   "execution_count": 5,
   "metadata": {},
   "outputs": [
    {
     "data": {
      "image/png": "[encoded data removed]",
      "text/plain": [
       "<Figure size 576x576 with 1 Axes>"
      ]
     },
     "metadata": {},
     "output_type": "display_data"
    }
   ],
   "source": [
    "pos = {x: x for x in list(G)}\n",
    "plt.figure(figsize=(8,8)) \n",
    "nx.draw_networkx_nodes(G, pos, node_size=700)\n",
    "nx.draw_networkx_labels(G, pos)\n",
    "nx.draw_networkx_edges(G, pos)\n",
    "labels = nx.get_edge_attributes(G, 'weight')\n",
    "nx.draw_networkx_edge_labels(G, pos, labels)\n",
    "plt.axis('off')\n",
    "plt.show()"
   ]
  },
  {
   "cell_type": "code",
   "execution_count": 6,
   "metadata": {},
   "outputs": [
    {
     "data": {
      "text/plain": [
       "((0, 3), (1, 3), 9)"
      ]
     },
     "execution_count": 6,
     "metadata": {},
     "output_type": "execute_result"
    }
   ],
   "source": [
    "max(list(G.edges.data('weight')), key = lambda x : x[2])"
   ]
  },
  {
   "cell_type": "code",
   "execution_count": 16,
   "metadata": {},
   "outputs": [
    {
     "data": {
      "text/plain": [
       "<networkx.classes.graph.Graph at 0x20145875ef0>"
      ]
     },
     "metadata": {},
     "output_type": "display_data"
    }
   ],
   "source": [
    "T = nx.minimum_spanning_tree(G)"
   ]
  },
  {
   "cell_type": "code",
   "execution_count": null,
   "metadata": {},
   "outputs": [],
   "source": []
  },
  {
   "cell_type": "code",
   "execution_count": 8,
   "metadata": {},
   "outputs": [],
   "source": [
    "compList = []\n",
    "for (u,v,w) in sorted(T.edges.data('weight'), key = lambda x : x[2]):\n",
    "    T1 = nx.Graph()\n",
    "    T1.add_edge(u,v,weight = w)\n"
   ]
  },
  {
   "cell_type": "code",
   "execution_count": 15,
   "metadata": {},
   "outputs": [],
   "source": [
    "def display_graph(G):\n",
    "    pos = {x: x for x in list(G)}\n",
    "    plt.figure(figsize=(8,8)) \n",
    "    nx.draw_networkx_nodes(G, pos, node_size=700)\n",
    "    nx.draw_networkx_labels(G, pos)\n",
    "    nx.draw_networkx_edges(G, pos)\n",
    "    labels = nx.get_edge_attributes(G, 'weight')\n",
    "    nx.draw_networkx_edge_labels(G, pos, labels)\n",
    "    plt.axis('off')\n",
    "    plt.show()\n",
    "\n",
    "def minimum_edges(G):\n",
    "    min_edge = min(list(G.edges.data('weight')), key = lambda x : x[2])\n",
    "    min_edges = [i for i in list(G.edges.data('weight')) if i[2] == minimum_edge[2]]\n",
    "    return min_edges\n",
    "\n",
    "def adjacency_edges_of_subgraph(S,G):\n",
    "    lst = []\n",
    "    for (u,v,w) in G.edges.data('weight'):\n",
    "        if S.has_node(u) ^ S.has_node(v):\n",
    "            lst.append((u,v,w))\n",
    "    return lst\n",
    "\n",
    "def average_weight(G):\n",
    "    return np.mean([w for (u,v,w) in G.edges.data('weight')])\n",
    "\n",
    "def expand(G):\n",
    "    T = nx.Graph()\n",
    "    while(not T.has_node(c) for c in list(G)):\n",
    "        T.add_edges_from(minimum_edges(G))\n",
    "        "
   ]
  },
  {
   "cell_type": "code",
   "execution_count": 14,
   "metadata": {},
   "outputs": [
    {
     "data": {
      "text/plain": [
       "[{(0, 0)}, {(0, 1)}]"
      ]
     },
     "execution_count": 14,
     "metadata": {},
     "output_type": "execute_result"
    }
   ],
   "source": [
    "S = nx.Graph()\n",
    "S.add_nodes_from([(0,0), (0,1)])\n",
    "sorted(nx.connected_components(S))\n"
   ]
  },
  {
   "cell_type": "code",
   "execution_count": null,
   "metadata": {},
   "outputs": [],
   "source": [
    "for node, nbrsdict in G.adj.items():\n",
    "    print(node, nbrsdict)"
   ]
  },
  {
   "cell_type": "code",
   "execution_count": null,
   "metadata": {},
   "outputs": [],
   "source": []
  },
  {
   "cell_type": "code",
   "execution_count": null,
   "metadata": {},
   "outputs": [],
   "source": []
  }
 ],
 "metadata": {
  "kernelspec": {
   "display_name": "Python 3",
   "language": "python",
   "name": "python3"
  },
  "language_info": {
   "codemirror_mode": {
    "name": "ipython",
    "version": 3
   },
   "file_extension": ".py",
   "mimetype": "text/x-python",
   "name": "python",
   "nbconvert_exporter": "python",
   "pygments_lexer": "ipython3",
   "version": "3.6.5"
  }
 },
 "nbformat": 4,
 "nbformat_minor": 2
}
