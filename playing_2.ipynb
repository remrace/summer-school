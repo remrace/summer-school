{
 "cells": [
  {
   "cell_type": "code",
   "execution_count": 64,
   "metadata": {},
   "outputs": [],
   "source": [
    "import random\n",
    "def strgenerator(guess,answer):\n",
    "    alphabet = \"abcdefghijklmnopqrstuvwxyz \"\n",
    "    res = \"\"\n",
    "    for c in range(len(guess)):\n",
    "        if guess[c] != answer[c]:\n",
    "            res = res + alphabet[random.randrange(27)]\n",
    "        else:\n",
    "            res = res + guess[c]\n",
    "    return res\n",
    "\n",
    "def scoring(str1,answer):\n",
    "    correct = 0\n",
    "    for c, letter in enumerate(answer):\n",
    "        if letter == str1[c]:\n",
    "            correct+=1\n",
    "    return (correct/len(answer)*100)\n",
    "\n",
    "def runner():\n",
    "    answer = \"methinks it is like a weasel\"\n",
    "    guess=\"\"\n",
    "    for i in range(28):\n",
    "        guess = guess + \"abcdefghijklmnopqrstuvwxyz \"[random.randrange(27)]\n",
    "    score = scoring(guess, answer)\n",
    "    best = (guess, score)\n",
    "    counter = 1\n",
    "    while score < 100:\n",
    "        counter+=1\n",
    "        guess = strgenerator(guess,answer)\n",
    "        score = scoring(guess, answer)\n",
    "        if score > best[1]:\n",
    "            best = (guess, score)\n",
    "        if counter%100 == 0:\n",
    "            print(best,counter)"
   ]
  },
  {
   "cell_type": "code",
   "execution_count": 76,
   "metadata": {},
   "outputs": [],
   "source": [
    "runner()"
   ]
  },
  {
   "cell_type": "code",
   "execution_count": 148,
   "metadata": {},
   "outputs": [],
   "source": [
    "answer = \"methinks it is like a weasel\"\n",
    "guess=\"\"\n",
    "for i in range(28):\n",
    "    guess = guess + \"abcdefghijklmnopqrstuvwxyz \"[random.randrange(27)]\n",
    "score = scoring(guess, answer)\n",
    "best = (guess, score)\n",
    "counter = 1"
   ]
  },
  {
   "cell_type": "code",
   "execution_count": 149,
   "metadata": {},
   "outputs": [
    {
     "data": {
      "text/plain": [
       "'uhnzucctvulfnfwwswurjswrnmmb'"
      ]
     },
     "execution_count": 149,
     "metadata": {},
     "output_type": "execute_result"
    }
   ],
   "source": [
    "guess"
   ]
  },
  {
   "cell_type": "code",
   "execution_count": 150,
   "metadata": {},
   "outputs": [
    {
     "data": {
      "text/plain": [
       "'methinks it is like a weasel'"
      ]
     },
     "execution_count": 150,
     "metadata": {},
     "output_type": "execute_result"
    }
   ],
   "source": [
    "answer"
   ]
  },
  {
   "cell_type": "code",
   "execution_count": 151,
   "metadata": {},
   "outputs": [
    {
     "data": {
      "text/plain": [
       "('uhnzucctvulfnfwwswurjswrnmmb', 3.571428571428571)"
      ]
     },
     "execution_count": 151,
     "metadata": {},
     "output_type": "execute_result"
    }
   ],
   "source": [
    "best"
   ]
  },
  {
   "cell_type": "code",
   "execution_count": 152,
   "metadata": {},
   "outputs": [
    {
     "name": "stdout",
     "output_type": "stream",
     "text": [
      "('uhnzucctvulfnfwwswurjswrnmmb', 3.571428571428571) 2\n",
      "('ulklqybslvkor a vtg jiwtovbt', 10.714285714285714) 3\n",
      "('mjdbmhkslpsbgvc hox caw neyv', 17.857142857142858) 4\n",
      "('mqfjcwksbvosvyvyxro qxwtammp', 21.428571428571427) 5\n",
      "('mreefaksix ylemiwco jbwwarek', 25.0) 6\n",
      "('mreefaksix ylemiwco jbwwarek', 25.0) 7\n",
      "('mfikpiksezznvgbmxhw kqwpasei', 28.57142857142857) 8\n",
      "('mfikpiksezznvgbmxhw kqwpasei', 28.57142857142857) 9\n",
      "('mfikpiksezznvgbmxhw kqwpasei', 28.57142857142857) 10\n",
      "('mddqiyksigeqzoleknt bzwnasec', 32.142857142857146) 11\n",
      "('mddqiyksigeqzoleknt bzwnasec', 32.142857142857146) 12\n",
      "('mtfqiaksvxesznuxskg kdwzasei', 35.714285714285715) 13\n",
      "('mtfqiaksvxesznuxskg kdwzasei', 35.714285714285715) 14\n",
      "('mtfqiaksvxesznuxskg kdwzasei', 35.714285714285715) 15\n",
      "('meyuiakspmlyubezaka hwwqasee', 39.285714285714285) 16\n",
      "('mevzivkscwzmfjectkx chweasee', 42.857142857142854) 17\n",
      "('meihigks yasogtt k  aoweaser', 53.57142857142857) 18\n",
      "('meihigks yasogtt k  aoweaser', 53.57142857142857) 19\n",
      "('meihigks yasogtt k  aoweaser', 53.57142857142857) 20\n",
      "('meihigks yasogtt k  aoweaser', 53.57142857142857) 21\n",
      "('meihigks yasogtt k  aoweaser', 53.57142857142857) 22\n",
      "('meihigks yasogtt k  aoweaser', 53.57142857142857) 23\n",
      "('meihigks yasogtt k  aoweaser', 53.57142857142857) 24\n",
      "('meihigks yasogtt k  aoweaser', 53.57142857142857) 25\n",
      "('meihigks yasogtt k  aoweaser', 53.57142857142857) 26\n",
      "('meihilks bjpgvmpikw anweased', 57.14285714285714) 27\n",
      "('mefhibks cpqwdrlikl azweasej', 60.71428571428571) 28\n",
      "('mefhibks cpqwdrlikl azweasej', 60.71428571428571) 29\n",
      "('mefhibks cpqwdrlikl azweasej', 60.71428571428571) 30\n",
      "('meohihks sdlerxlikw a weasee', 64.28571428571429) 31\n",
      "('meohihks sdlerxlikw a weasee', 64.28571428571429) 32\n",
      "('mephinks tpnpixlikb a weased', 67.85714285714286) 33\n",
      "('methinks fpgspslikw a weaseg', 71.42857142857143) 34\n",
      "('methinks oemkkqlike a weasea', 75.0) 35\n",
      "('methinks oemkkqlike a weasea', 75.0) 36\n",
      "('methinks oemkkqlike a weasea', 75.0) 37\n",
      "('methinks oemkkqlike a weasea', 75.0) 38\n",
      "('methinks oemkkqlike a weasea', 75.0) 39\n",
      "('methinks oemkkqlike a weasea', 75.0) 40\n",
      "('methinks oemkkqlike a weasea', 75.0) 41\n",
      "('methinks vfyqp like a weaser', 78.57142857142857) 42\n",
      "('methinks vfyqp like a weaser', 78.57142857142857) 43\n",
      "('methinks vfyqp like a weaser', 78.57142857142857) 44\n",
      "('methinks vfyqp like a weaser', 78.57142857142857) 45\n",
      "('methinks vfyqp like a weaser', 78.57142857142857) 46\n",
      "('methinks vfyqp like a weaser', 78.57142857142857) 47\n",
      "('methinks vfyqp like a weaser', 78.57142857142857) 48\n",
      "('methinks vfyqp like a weaser', 78.57142857142857) 49\n",
      "('methinks dy yh like a weasen', 82.14285714285714) 50\n",
      "('methinks dy yh like a weasen', 82.14285714285714) 51\n",
      "('methinks dy yh like a weasen', 82.14285714285714) 52\n",
      "('methinks dy yh like a weasen', 82.14285714285714) 53\n",
      "('methinks dy yh like a weasen', 82.14285714285714) 54\n",
      "('methinks dy yh like a weasen', 82.14285714285714) 55\n",
      "('methinks vh  s like a weasem', 85.71428571428571) 56\n",
      "('methinks ve is like a weasep', 89.28571428571429) 57\n",
      "('methinks tt is like a weaset', 92.85714285714286) 58\n",
      "('methinks it is like a weasel', 100.0) 59\n"
     ]
    }
   ],
   "source": [
    "while score < 100:\n",
    "    counter+=1\n",
    "    guess = strgenerator(guess,answer)\n",
    "    score = scoring(guess, answer)\n",
    "    if score > best[1]:\n",
    "        best = (guess, score)\n",
    "    print(best,counter)"
   ]
  },
  {
   "cell_type": "code",
   "execution_count": 144,
   "metadata": {},
   "outputs": [
    {
     "data": {
      "text/plain": [
       "129"
      ]
     },
     "execution_count": 144,
     "metadata": {},
     "output_type": "execute_result"
    }
   ],
   "source": [
    "counter"
   ]
  },
  {
   "cell_type": "code",
   "execution_count": null,
   "metadata": {},
   "outputs": [],
   "source": []
  }
 ],
 "metadata": {
  "kernelspec": {
   "display_name": "Python 3",
   "language": "python",
   "name": "python3"
  },
  "language_info": {
   "codemirror_mode": {
    "name": "ipython",
    "version": 3
   },
   "file_extension": ".py",
   "mimetype": "text/x-python",
   "name": "python",
   "nbconvert_exporter": "python",
   "pygments_lexer": "ipython3",
   "version": "3.6.5"
  }
 },
 "nbformat": 4,
 "nbformat_minor": 2
}
