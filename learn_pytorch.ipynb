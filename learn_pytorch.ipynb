{
 "cells": [
  {
   "cell_type": "code",
   "execution_count": 1,
   "metadata": {},
   "outputs": [],
   "source": [
    "import torch\n",
    "import torchvision\n",
    "import torch.nn as nn\n",
    "import numpy as np\n",
    "import torchvision.transforms as transforms"
   ]
  },
  {
   "cell_type": "code",
   "execution_count": 3,
   "metadata": {},
   "outputs": [
    {
     "name": "stdout",
     "output_type": "stream",
     "text": [
      "tensor(2)\n",
      "tensor(1)\n",
      "tensor(1)\n"
     ]
    }
   ],
   "source": [
    "#Create tensors\n",
    "\n",
    "x = torch.tensor(1, requires_grad = True)\n",
    "w = torch.tensor(2, requires_grad = True)\n",
    "b = torch.tensor(3, requires_grad = True)\n",
    "\n",
    "#Build a comp graph\n",
    "y = w * x + b\n",
    "\n",
    "#Compute gradients\n",
    "y.backward()\n",
    "\n",
    "print(x.grad)\n",
    "print(w.grad)\n",
    "print(b.grad)"
   ]
  },
  {
   "cell_type": "code",
   "execution_count": 6,
   "metadata": {},
   "outputs": [
    {
     "name": "stdout",
     "output_type": "stream",
     "text": [
      "w:  Parameter containing:\n",
      "tensor([[ 0.0530, -0.4647, -0.3386],\n",
      "        [-0.2295, -0.3878, -0.2240]])\n",
      "b:  Parameter containing:\n",
      "tensor([ 0.3098,  0.4641])\n",
      "loss:  0.9771218299865723\n",
      "dL/dw:  tensor([[ 0.0579, -0.1365, -0.1684],\n",
      "        [-0.2049,  0.2142, -0.5556]])\n",
      "dL/db:  tensor([ 0.0451,  0.2421])\n",
      "loss after 1 step optimization:  0.9720691442489624\n"
     ]
    }
   ],
   "source": [
    "x = torch.randn(10, 3)\n",
    "y= torch.randn(10, 2)\n",
    "\n",
    "linear = nn.Linear(3,2)\n",
    "print ('w: ', linear.weight)\n",
    "print ('b: ', linear.bias)\n",
    "\n",
    "criterion = nn.MSELoss()\n",
    "optimizer = torch.optim.SGD(linear.parameters(), lr=0.01)\n",
    "\n",
    "pred = linear(x)\n",
    "\n",
    "loss = criterion(pred, y)\n",
    "print('loss: ', loss.item())\n",
    "\n",
    "loss.backward()\n",
    "\n",
    "print('dL/dw: ', linear.weight.grad)\n",
    "print('dL/db: ', linear.bias.grad)\n",
    "\n",
    "optimizer.step()\n",
    "\n",
    "pred = linear(x)\n",
    "loss = criterion(pred, y)\n",
    "print('loss after 1 step optimization: ', loss.item())"
   ]
  },
  {
   "cell_type": "code",
   "execution_count": null,
   "metadata": {},
   "outputs": [],
   "source": []
  }
 ],
 "metadata": {
  "kernelspec": {
   "display_name": "Python 3",
   "language": "python",
   "name": "python3"
  },
  "language_info": {
   "codemirror_mode": {
    "name": "ipython",
    "version": 3
   },
   "file_extension": ".py",
   "mimetype": "text/x-python",
   "name": "python",
   "nbconvert_exporter": "python",
   "pygments_lexer": "ipython3",
   "version": "3.6.5"
  }
 },
 "nbformat": 4,
 "nbformat_minor": 2
}
