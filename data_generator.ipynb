{
 "cells": [
  {
   "cell_type": "code",
   "execution_count": null,
   "metadata": {},
   "outputs": [],
   "source": [
    "'''\n",
    "Task:\n",
    "Given a 4-connectivity weigted graph, find the smalless energy E = sum(Aij*I(i!=j))\n",
    "Exhaustive search:\n",
    "Let N be the total number of edges in a nxn grid => N = 2*n^2 - 2*n\n",
    "Save the graph, and the \n",
    "'''"
   ]
  },
  {
   "cell_type": "code",
   "execution_count": null,
   "metadata": {},
   "outputs": [],
   "source": [
    "def find_the_cut(G)\n",
    "#given a weighted undirected graph G\n",
    "#return a set of edges that should be removed to have the minimum energy"
   ]
  },
  {
   "cell_type": "code",
   "execution_count": 1,
   "metadata": {},
   "outputs": [],
   "source": [
    "import numpy as np\n",
    "import networkx as nx"
   ]
  },
  {
   "cell_type": "code",
   "execution_count": 4,
   "metadata": {},
   "outputs": [],
   "source": [
    "I = np.ones((7,7))*20\n"
   ]
  },
  {
   "cell_type": "code",
   "execution_count": 5,
   "metadata": {},
   "outputs": [
    {
     "data": {
      "text/plain": [
       "array([[20., 20., 20., 20., 20., 20., 20.],\n",
       "       [20., 20., 20., 20., 20., 20., 20.],\n",
       "       [20., 20., 20., 20., 20., 20., 20.],\n",
       "       [20., 20., 20., 20., 20., 20., 20.],\n",
       "       [20., 20., 20., 20., 20., 20., 20.],\n",
       "       [20., 20., 20., 20., 20., 20., 20.],\n",
       "       [20., 20., 20., 20., 20., 20., 20.]])"
      ]
     },
     "execution_count": 5,
     "metadata": {},
     "output_type": "execute_result"
    }
   ],
   "source": [
    "I"
   ]
  },
  {
   "cell_type": "code",
   "execution_count": null,
   "metadata": {},
   "outputs": [],
   "source": []
  }
 ],
 "metadata": {
  "kernelspec": {
   "display_name": "Python 3",
   "language": "python",
   "name": "python3"
  },
  "language_info": {
   "codemirror_mode": {
    "name": "ipython",
    "version": 3
   },
   "file_extension": ".py",
   "mimetype": "text/x-python",
   "name": "python",
   "nbconvert_exporter": "python",
   "pygments_lexer": "ipython3",
   "version": "3.6.5"
  }
 },
 "nbformat": 4,
 "nbformat_minor": 2
}
